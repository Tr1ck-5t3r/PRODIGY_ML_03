{
 "cells": [
  {
   "cell_type": "code",
   "execution_count": 1,
   "metadata": {},
   "outputs": [],
   "source": [
    "import pandas as pd\n",
    "import numpy as np\n",
    "import matplotlib.pyplot as plt"
   ]
  },
  {
   "cell_type": "code",
   "execution_count": 2,
   "metadata": {},
   "outputs": [],
   "source": [
    "base = r\"E:/dogs_vs_cats/data\""
   ]
  },
  {
   "cell_type": "code",
   "execution_count": 3,
   "metadata": {},
   "outputs": [
    {
     "name": "stdout",
     "output_type": "stream",
     "text": [
      "Image cropping completed.\n"
     ]
    }
   ],
   "source": [
    "import cv2\n",
    "import os\n",
    "\n",
    "# Define the directory containing the images\n",
    "directory = base  # Change this to the actual path\n",
    "\n",
    "# Define the target size for cropping\n",
    "target_width = 224\n",
    "target_height = 224\n",
    "\n",
    "# Create a new directory to store cropped images\n",
    "output_directory = r\"E:/dogs_vs_cats/master\"\n",
    "os.makedirs(output_directory, exist_ok=True)\n",
    "\n",
    "# Iterate over files in the directory\n",
    "for filename in os.listdir(directory):\n",
    "    if filename.endswith(\".jpg\") or filename.endswith(\n",
    "        \".png\"\n",
    "    ):  # Filter only image files\n",
    "        # Read the image\n",
    "        image_path = os.path.join(directory, filename)\n",
    "        image = cv2.imread(image_path)\n",
    "\n",
    "        # Resize the image to the target size\n",
    "        resized_image = cv2.resize(image, (target_width, target_height))\n",
    "\n",
    "        # Write the resized image to the output directory\n",
    "        output_path = os.path.join(output_directory, filename)\n",
    "        cv2.imwrite(output_path, resized_image)\n",
    "\n",
    "print(\"Image cropping completed.\")"
   ]
  }
 ],
 "metadata": {
  "kernelspec": {
   "display_name": "Python 3",
   "language": "python",
   "name": "python3"
  },
  "language_info": {
   "codemirror_mode": {
    "name": "ipython",
    "version": 3
   },
   "file_extension": ".py",
   "mimetype": "text/x-python",
   "name": "python",
   "nbconvert_exporter": "python",
   "pygments_lexer": "ipython3",
   "version": "3.10.1"
  }
 },
 "nbformat": 4,
 "nbformat_minor": 2
}
