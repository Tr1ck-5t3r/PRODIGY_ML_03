{
 "cells": [
  {
   "cell_type": "code",
   "execution_count": 2,
   "metadata": {},
   "outputs": [],
   "source": [
    "import pandas as pd\n",
    "import numpy as np\n",
    "import matplotlib.pyplot as plt\n",
    "import os\n",
    "import shutil"
   ]
  },
  {
   "cell_type": "code",
   "execution_count": 5,
   "metadata": {},
   "outputs": [],
   "source": [
    "base = r\"E:/dogs_vs_cats/master\"\n",
    "train_dir = r\"E:/dogs_vs_cats/data/train\"\n",
    "test_dir = r\"E:/dogs_vs_cats/data/test\"\n",
    "val_dir = r\"E:/dogs_vs_cats/data/val\""
   ]
  },
  {
   "cell_type": "code",
   "execution_count": 8,
   "metadata": {},
   "outputs": [
    {
     "name": "stdout",
     "output_type": "stream",
     "text": [
      "25000\n"
     ]
    }
   ],
   "source": [
    "print(len(os.listdir(base)))"
   ]
  },
  {
   "cell_type": "code",
   "execution_count": 6,
   "metadata": {},
   "outputs": [],
   "source": [
    "# split into train, test, val\n",
    "if not os.path.exists(train_dir):\n",
    "    os.makedirs(train_dir)\n",
    "    os.makedirs(os.path.join(train_dir, \"cat\"))\n",
    "    os.makedirs(os.path.join(train_dir, \"dog\"))\n",
    "    os.makedirs(test_dir)\n",
    "    os.makedirs(os.path.join(test_dir, \"cat\"))\n",
    "    os.makedirs(os.path.join(test_dir, \"dog\"))\n",
    "    os.makedirs(val_dir)\n",
    "    os.makedirs(os.path.join(val_dir, \"cat\"))\n",
    "    os.makedirs(os.path.join(val_dir, \"dog\"))"
   ]
  },
  {
   "cell_type": "code",
   "execution_count": 11,
   "metadata": {},
   "outputs": [],
   "source": [
    "images = r\"E:/dogs_vs_cats/images\"\n",
    "for i in os.listdir(base):\n",
    "    if i.startswith(\"cat\"):\n",
    "        shutil.copy(os.path.join(base, i), images + \"/cat\")\n",
    "    else:\n",
    "        shutil.copy(os.path.join(base, i), images + \"/dog\")"
   ]
  },
  {
   "cell_type": "code",
   "execution_count": 12,
   "metadata": {},
   "outputs": [
    {
     "name": "stdout",
     "output_type": "stream",
     "text": [
      "12500\n",
      "12500\n"
     ]
    }
   ],
   "source": [
    "print(len(os.listdir(images + \"/cat\")))\n",
    "print(len(os.listdir(images + \"/dog\")))"
   ]
  },
  {
   "cell_type": "code",
   "execution_count": 13,
   "metadata": {},
   "outputs": [],
   "source": [
    "# split into train, test, val 70%, 10%, 20%\n",
    "\n",
    "test_cat = []\n",
    "val_cat = []\n",
    "train_cat = []\n",
    "test_dog = []\n",
    "val_dog = []\n",
    "train_dog = []\n",
    "\n",
    "for i in os.listdir(images + \"/cat\"):\n",
    "    if len(test_cat) < 2500:\n",
    "        test_cat.append(i)\n",
    "    elif len(val_cat) < 2500:\n",
    "        val_cat.append(i)\n",
    "    else:\n",
    "        train_cat.append(i)\n",
    "\n",
    "for i in os.listdir(images + \"/dog\"):\n",
    "    if len(test_dog) < 2500:\n",
    "        test_dog.append(i)\n",
    "    elif len(val_dog) < 2500:\n",
    "        val_dog.append(i)\n",
    "    else:\n",
    "        train_dog.append(i)"
   ]
  },
  {
   "cell_type": "code",
   "execution_count": 14,
   "metadata": {},
   "outputs": [],
   "source": [
    "for i in test_cat:\n",
    "    shutil.copy(os.path.join(images, \"cat\", i), test_dir + \"/cat\")\n",
    "for i in val_cat:\n",
    "    shutil.copy(os.path.join(images, \"cat\", i), val_dir + \"/cat\")\n",
    "for i in train_cat:\n",
    "    shutil.copy(os.path.join(images, \"cat\", i), train_dir + \"/cat\")\n",
    "\n",
    "for i in test_dog:\n",
    "    shutil.copy(os.path.join(images, \"dog\", i), test_dir + \"/dog\")\n",
    "for i in val_dog:\n",
    "    shutil.copy(os.path.join(images, \"dog\", i), val_dir + \"/dog\")\n",
    "for i in train_dog:\n",
    "    shutil.copy(os.path.join(images, \"dog\", i), train_dir + \"/dog\")\n"
   ]
  },
  {
   "cell_type": "code",
   "execution_count": 15,
   "metadata": {},
   "outputs": [
    {
     "name": "stdout",
     "output_type": "stream",
     "text": [
      "7500\n",
      "7500\n",
      "2500\n",
      "2500\n",
      "2500\n",
      "2500\n"
     ]
    }
   ],
   "source": [
    "print(len(os.listdir(train_dir + \"/cat\")))\n",
    "print(len(os.listdir(train_dir + \"/dog\")))\n",
    "print(len(os.listdir(test_dir + \"/cat\")))\n",
    "print(len(os.listdir(test_dir + \"/dog\")))\n",
    "print(len(os.listdir(val_dir + \"/cat\")))\n",
    "print(len(os.listdir(val_dir + \"/dog\")))\n"
   ]
  }
 ],
 "metadata": {
  "kernelspec": {
   "display_name": "Python 3",
   "language": "python",
   "name": "python3"
  },
  "language_info": {
   "codemirror_mode": {
    "name": "ipython",
    "version": 3
   },
   "file_extension": ".py",
   "mimetype": "text/x-python",
   "name": "python",
   "nbconvert_exporter": "python",
   "pygments_lexer": "ipython3",
   "version": "3.10.1"
  }
 },
 "nbformat": 4,
 "nbformat_minor": 2
}
